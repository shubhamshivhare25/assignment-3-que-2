{
 "cells": [
  {
   "cell_type": "code",
   "execution_count": 4,
   "metadata": {},
   "outputs": [
    {
     "name": "stdout",
     "output_type": "stream",
     "text": [
      "enter a string: 1234abcd\n",
      "original string entered by user: 1234abcd\n",
      "This is reversed string: dcba4321\n"
     ]
    }
   ],
   "source": [
    "strg = input(\"enter a string: \") # accept a string from user\n",
    "\n",
    "def str_reverse(strg):  # function that reverse a sting entered by user\n",
    "    revstr = \"\"\n",
    "    for i in strg:    # for loop to reverse a string\n",
    "        revstr = i + revstr\n",
    "    return revstr    # returns the reversed string\n",
    "print (\"original string entered by user:\", strg)    # prints the original String\n",
    "print(\"This is reversed string:\", str_reverse(strg))  # prints the reversed string"
   ]
  }
 ],
 "metadata": {
  "kernelspec": {
   "display_name": "Python 3",
   "language": "python",
   "name": "python3"
  },
  "language_info": {
   "codemirror_mode": {
    "name": "ipython",
    "version": 3
   },
   "file_extension": ".py",
   "mimetype": "text/x-python",
   "name": "python",
   "nbconvert_exporter": "python",
   "pygments_lexer": "ipython3",
   "version": "3.8.5"
  }
 },
 "nbformat": 4,
 "nbformat_minor": 4
}
